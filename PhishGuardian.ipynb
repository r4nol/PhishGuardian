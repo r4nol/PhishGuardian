{
 "cells": [
  {
   "cell_type": "markdown",
   "id": "c03f53ad",
   "metadata": {},
   "source": [
    "# 🛡️ PhishGuardian: DistilBERT for Email Security 🔥  \n",
    "### *Advanced Phishing Email Detection using AI*  \n",
    "\n",
    "🔍 **About this Notebook:**  \n",
    "This notebook demonstrates phishing email detection using a **fine-tuned DistilBERT model**. The goal is to classify emails as **Phishing** or **Safe** based on their textual content.  \n",
    "With the increasing number of phishing attacks, this AI-powered model provides a reliable way to enhance email security.  \n",
    "\n",
    "📌 **Key Features:**  \n",
    "- ✅ **Preprocessing of email text** (cleaning, tokenization, and encoding).  \n",
    "- ✅ **Fine-tuning DistilBERT** for binary classification.  \n",
    "- ✅ **Evaluation and visualization of model performance**.  \n",
    "- ✅ **Deployment options** (FastAPI for real-time inference).  \n",
    "\n",
    "📊 **Dataset:** The dataset consists of phishing and safe emails, which are used to train and validate the model.  \n",
    "\n",
    "🚀 **Let’s start building our AI-powered email security model!**  \n"
   ]
  },
  {
   "cell_type": "markdown",
   "id": "8e92c53e",
   "metadata": {},
   "source": [
    "# Import necessary libraries"
   ]
  },
  {
   "cell_type": "code",
   "execution_count": null,
   "id": "5fb2d6a1",
   "metadata": {
    "execution": {
     "iopub.execute_input": "2025-02-19T12:33:07.538075Z",
     "iopub.status.busy": "2025-02-19T12:33:07.537745Z",
     "iopub.status.idle": "2025-02-19T12:33:07.608844Z",
     "shell.execute_reply": "2025-02-19T12:33:07.608110Z",
     "shell.execute_reply.started": "2025-02-19T12:33:07.538044Z"
    }
   },
   "outputs": [],
   "source": [
    "import numpy as np\n",
    "import pandas as pd\n",
    "import torch\n",
    "from transformers import DistilBertTokenizer, DistilBertForSequenceClassification, Trainer, TrainingArguments\n",
    "from datasets import Dataset\n",
    "from sklearn.model_selection import train_test_split\n",
    "\n",
    "device = 'cuda' if torch.cuda.is_available() else 'cpu'\n",
    "print(\"Using device: \", device)"
   ]
  },
  {
   "cell_type": "markdown",
   "id": "d7fe8501",
   "metadata": {},
   "source": [
    "# Load the dataset"
   ]
  },
  {
   "cell_type": "code",
   "execution_count": null,
   "id": "6e46c973",
   "metadata": {
    "execution": {
     "iopub.execute_input": "2025-02-19T12:29:01.572239Z",
     "iopub.status.busy": "2025-02-19T12:29:01.571332Z",
     "iopub.status.idle": "2025-02-19T12:29:02.648180Z",
     "shell.execute_reply": "2025-02-19T12:29:02.647285Z",
     "shell.execute_reply.started": "2025-02-19T12:29:01.572213Z"
    }
   },
   "outputs": [],
   "source": [
    "df = pd.read_csv(\"/kaggle/input/phishingemails/Phishing_Email.csv\")"
   ]
  },
  {
   "cell_type": "markdown",
   "id": "ce7302a4",
   "metadata": {},
   "source": [
    "# Remove missing values"
   ]
  },
  {
   "cell_type": "code",
   "execution_count": null,
   "id": "510c2d45",
   "metadata": {
    "execution": {
     "iopub.execute_input": "2025-02-19T12:29:02.649984Z",
     "iopub.status.busy": "2025-02-19T12:29:02.649661Z",
     "iopub.status.idle": "2025-02-19T12:29:02.662800Z",
     "shell.execute_reply": "2025-02-19T12:29:02.661964Z",
     "shell.execute_reply.started": "2025-02-19T12:29:02.649958Z"
    }
   },
   "outputs": [],
   "source": [
    "df.dropna(inplace=True)"
   ]
  },
  {
   "cell_type": "markdown",
   "id": "4788bdc2",
   "metadata": {},
   "source": [
    "# Convert labels to numerical format (1 - Phishing, 0 - Safe)\n"
   ]
  },
  {
   "cell_type": "code",
   "execution_count": null,
   "id": "2ae2073c",
   "metadata": {
    "execution": {
     "iopub.execute_input": "2025-02-19T12:29:02.663873Z",
     "iopub.status.busy": "2025-02-19T12:29:02.663644Z",
     "iopub.status.idle": "2025-02-19T12:29:02.722770Z",
     "shell.execute_reply": "2025-02-19T12:29:02.722097Z",
     "shell.execute_reply.started": "2025-02-19T12:29:02.663843Z"
    }
   },
   "outputs": [],
   "source": [
    "df[\"label\"] = df[\"Email Type\"].apply(lambda x: 1 if x == \"Phishing Email\" else 0)"
   ]
  },
  {
   "cell_type": "markdown",
   "id": "bd8c29ab",
   "metadata": {},
   "source": [
    "# Split into training and testing sets"
   ]
  },
  {
   "cell_type": "code",
   "execution_count": null,
   "id": "d11f9764",
   "metadata": {
    "execution": {
     "iopub.execute_input": "2025-02-19T12:29:10.603390Z",
     "iopub.status.busy": "2025-02-19T12:29:10.603091Z",
     "iopub.status.idle": "2025-02-19T12:29:10.615242Z",
     "shell.execute_reply": "2025-02-19T12:29:10.614465Z",
     "shell.execute_reply.started": "2025-02-19T12:29:10.603367Z"
    }
   },
   "outputs": [],
   "source": [
    "train_texts, test_texts, train_labels, test_labels = train_test_split(\n",
    "    df[\"Email Text\"].tolist(), df[\"label\"].tolist(), test_size=0.2, random_state=42\n",
    ")"
   ]
  },
  {
   "cell_type": "markdown",
   "id": "8209e415",
   "metadata": {},
   "source": [
    "# Load the DistilBERT tokenizer"
   ]
  },
  {
   "cell_type": "code",
   "execution_count": null,
   "id": "b59dae39",
   "metadata": {
    "execution": {
     "iopub.execute_input": "2025-02-19T12:29:12.497531Z",
     "iopub.status.busy": "2025-02-19T12:29:12.497250Z",
     "iopub.status.idle": "2025-02-19T12:29:13.700603Z",
     "shell.execute_reply": "2025-02-19T12:29:13.699975Z",
     "shell.execute_reply.started": "2025-02-19T12:29:12.497508Z"
    }
   },
   "outputs": [],
   "source": [
    "tokenizer = DistilBertTokenizer.from_pretrained(\"distilbert-base-uncased\")"
   ]
  },
  {
   "cell_type": "markdown",
   "id": "67d3ae71",
   "metadata": {},
   "source": [
    "# Tokenization function"
   ]
  },
  {
   "cell_type": "code",
   "execution_count": null,
   "id": "44e2de6d",
   "metadata": {
    "execution": {
     "iopub.execute_input": "2025-02-19T12:29:15.931366Z",
     "iopub.status.busy": "2025-02-19T12:29:15.930866Z",
     "iopub.status.idle": "2025-02-19T12:29:15.935650Z",
     "shell.execute_reply": "2025-02-19T12:29:15.934703Z",
     "shell.execute_reply.started": "2025-02-19T12:29:15.931324Z"
    }
   },
   "outputs": [],
   "source": [
    "def tokenize_function(texts):\n",
    "    return tokenizer(texts, padding=\"max_length\", truncation=True, max_length=512)"
   ]
  },
  {
   "cell_type": "markdown",
   "id": "54aa4dee",
   "metadata": {},
   "source": [
    "# Tokenize training and testing data"
   ]
  },
  {
   "cell_type": "code",
   "execution_count": null,
   "id": "a5ff282c",
   "metadata": {
    "execution": {
     "iopub.execute_input": "2025-02-19T12:29:55.503920Z",
     "iopub.status.busy": "2025-02-19T12:29:55.503470Z",
     "iopub.status.idle": "2025-02-19T12:33:07.536147Z",
     "shell.execute_reply": "2025-02-19T12:33:07.535459Z",
     "shell.execute_reply.started": "2025-02-19T12:29:55.503860Z"
    }
   },
   "outputs": [],
   "source": [
    "train_encodings = tokenize_function(train_texts)\n",
    "test_encodings = tokenize_function(test_texts)"
   ]
  },
  {
   "cell_type": "markdown",
   "id": "1c274f2e",
   "metadata": {},
   "source": [
    "# Convert to Hugging Face Dataset format"
   ]
  },
  {
   "cell_type": "code",
   "execution_count": null,
   "id": "003dac6c",
   "metadata": {
    "execution": {
     "iopub.execute_input": "2025-02-19T12:34:14.589508Z",
     "iopub.status.busy": "2025-02-19T12:34:14.589196Z",
     "iopub.status.idle": "2025-02-19T12:34:17.643268Z",
     "shell.execute_reply": "2025-02-19T12:34:17.642568Z",
     "shell.execute_reply.started": "2025-02-19T12:34:14.589485Z"
    }
   },
   "outputs": [],
   "source": [
    "train_dataset = Dataset.from_dict({\n",
    "    \"input_ids\": train_encodings[\"input_ids\"],\n",
    "    \"attention_mask\": train_encodings[\"attention_mask\"],\n",
    "    \"labels\": train_labels\n",
    "})\n",
    "\n",
    "test_dataset = Dataset.from_dict({\n",
    "    \"input_ids\": test_encodings[\"input_ids\"],\n",
    "    \"attention_mask\": test_encodings[\"attention_mask\"],\n",
    "    \"labels\": test_labels\n",
    "})"
   ]
  },
  {
   "cell_type": "markdown",
   "id": "5db38c71",
   "metadata": {},
   "source": [
    "# Load the DistilBERT model for classification"
   ]
  },
  {
   "cell_type": "code",
   "execution_count": null,
   "id": "658628d3",
   "metadata": {
    "execution": {
     "iopub.execute_input": "2025-02-19T12:34:21.304001Z",
     "iopub.status.busy": "2025-02-19T12:34:21.303687Z",
     "iopub.status.idle": "2025-02-19T12:34:23.270690Z",
     "shell.execute_reply": "2025-02-19T12:34:23.269763Z",
     "shell.execute_reply.started": "2025-02-19T12:34:21.303975Z"
    }
   },
   "outputs": [],
   "source": [
    "model = DistilBertForSequenceClassification.from_pretrained(\"distilbert-base-uncased\", num_labels=2).to(device)"
   ]
  },
  {
   "cell_type": "markdown",
   "id": "94d485a6",
   "metadata": {},
   "source": [
    "# Define training arguments"
   ]
  },
  {
   "cell_type": "code",
   "execution_count": null,
   "id": "13f27919",
   "metadata": {
    "execution": {
     "iopub.execute_input": "2025-02-19T12:34:39.899195Z",
     "iopub.status.busy": "2025-02-19T12:34:39.898881Z",
     "iopub.status.idle": "2025-02-19T12:34:39.931306Z",
     "shell.execute_reply": "2025-02-19T12:34:39.930372Z",
     "shell.execute_reply.started": "2025-02-19T12:34:39.899172Z"
    }
   },
   "outputs": [],
   "source": [
    "training_args = TrainingArguments(\n",
    "    output_dir=\"./results\",\n",
    "    eval_strategy=\"epoch\",\n",
    "    save_strategy=\"epoch\",\n",
    "    per_device_train_batch_size=8,\n",
    "    per_device_eval_batch_size=8,\n",
    "    num_train_epochs=3,\n",
    "    logging_dir=\"./logs\",\n",
    "    logging_steps=500,\n",
    "    save_total_limit=2,\n",
    "    report_to=\"none\"\n",
    ")"
   ]
  },
  {
   "cell_type": "markdown",
   "id": "bf83e733",
   "metadata": {},
   "source": [
    "# Define the Trainer"
   ]
  },
  {
   "cell_type": "code",
   "execution_count": null,
   "id": "b0431a30",
   "metadata": {
    "execution": {
     "iopub.execute_input": "2025-02-19T12:34:41.381729Z",
     "iopub.status.busy": "2025-02-19T12:34:41.381450Z",
     "iopub.status.idle": "2025-02-19T12:34:41.396580Z",
     "shell.execute_reply": "2025-02-19T12:34:41.395976Z",
     "shell.execute_reply.started": "2025-02-19T12:34:41.381705Z"
    }
   },
   "outputs": [],
   "source": [
    "trainer = Trainer(\n",
    "    model=model,\n",
    "    args=training_args,\n",
    "    train_dataset=train_dataset,\n",
    "    eval_dataset=test_dataset\n",
    ")"
   ]
  },
  {
   "cell_type": "markdown",
   "id": "779ec960",
   "metadata": {},
   "source": [
    "# Train the model"
   ]
  },
  {
   "cell_type": "code",
   "execution_count": null,
   "id": "d807ec92",
   "metadata": {
    "execution": {
     "iopub.execute_input": "2025-02-19T12:34:42.899419Z",
     "iopub.status.busy": "2025-02-19T12:34:42.899036Z",
     "iopub.status.idle": "2025-02-19T12:57:51.605246Z",
     "shell.execute_reply": "2025-02-19T12:57:51.604175Z",
     "shell.execute_reply.started": "2025-02-19T12:34:42.899385Z"
    }
   },
   "outputs": [],
   "source": [
    "trainer.train()"
   ]
  },
  {
   "cell_type": "markdown",
   "id": "1f903276",
   "metadata": {},
   "source": [
    "# Evaluate the model"
   ]
  },
  {
   "cell_type": "code",
   "execution_count": null,
   "id": "fabbfd1b",
   "metadata": {
    "execution": {
     "iopub.execute_input": "2025-02-19T13:03:30.284873Z",
     "iopub.status.busy": "2025-02-19T13:03:30.284498Z",
     "iopub.status.idle": "2025-02-19T13:04:03.740489Z",
     "shell.execute_reply": "2025-02-19T13:04:03.739828Z",
     "shell.execute_reply.started": "2025-02-19T13:03:30.284847Z"
    }
   },
   "outputs": [],
   "source": [
    "trainer.evaluate()"
   ]
  },
  {
   "cell_type": "markdown",
   "id": "817f5c28",
   "metadata": {},
   "source": [
    "# Save the trained model"
   ]
  },
  {
   "cell_type": "code",
   "execution_count": null,
   "id": "412b63d4",
   "metadata": {
    "execution": {
     "iopub.execute_input": "2025-02-19T13:04:18.090873Z",
     "iopub.status.busy": "2025-02-19T13:04:18.090599Z",
     "iopub.status.idle": "2025-02-19T13:04:18.753067Z",
     "shell.execute_reply": "2025-02-19T13:04:18.752167Z",
     "shell.execute_reply.started": "2025-02-19T13:04:18.090852Z"
    }
   },
   "outputs": [],
   "source": [
    "model.save_pretrained(\"./phishing_model\")\n",
    "tokenizer.save_pretrained(\"./phishing_model\")"
   ]
  }
 ],
 "metadata": {
  "description": "This notebook demonstrates phishing email detection using a fine-tuned DistilBERT model. The model is trained on phishing and non-phishing email datasets to classify emails effectively.",
  "kaggle": {
   "accelerator": "nvidiaTeslaT4",
   "dataSources": [
    {
     "datasetId": 3487818,
     "sourceId": 6090437,
     "sourceType": "datasetVersion"
    }
   ],
   "dockerImageVersionId": 30887,
   "isGpuEnabled": true,
   "isInternetEnabled": true,
   "language": "python",
   "sourceType": "notebook"
  },
  "kernelspec": {
   "display_name": "Python 3",
   "name": "python3"
  },
  "language": "python",
  "language_info": {
   "codemirror_mode": {
    "name": "ipython",
    "version": 3
   },
   "file_extension": ".py",
   "mimetype": "text/x-python",
   "name": "python",
   "nbconvert_exporter": "python",
   "pygments_lexer": "ipython3",
   "version": "3.10.12"
  },
  "tags": [
   "NLP",
   "Phishing Detection",
   "DistilBERT",
   "Cybersecurity",
   "Transformers"
  ],
  "title": "🛡️ PhishGuardian: DistilBERT for Email Security 🔥"
 },
 "nbformat": 4,
 "nbformat_minor": 5
}
